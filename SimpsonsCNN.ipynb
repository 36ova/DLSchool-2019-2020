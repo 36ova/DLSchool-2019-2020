{
  "nbformat": 4,
  "nbformat_minor": 0,
  "metadata": {
    "kernelspec": {
      "name": "python3",
      "display_name": "Python 3"
    },
    "language_info": {
      "pygments_lexer": "ipython3",
      "nbconvert_exporter": "python",
      "version": "3.6.4",
      "file_extension": ".py",
      "codemirror_mode": {
        "name": "ipython",
        "version": 3
      },
      "name": "python",
      "mimetype": "text/x-python"
    },
    "colab": {
      "name": "SimpsonsCNN.ipynb",
      "provenance": [],
      "collapsed_sections": [
        "xtoeDkCYERhI"
      ]
    },
    "accelerator": "GPU"
  },
  "cells": [
    {
      "cell_type": "markdown",
      "metadata": {
        "id": "rrWRKZCfCL16",
        "colab_type": "text"
      },
      "source": [
        "# Simpsons Classification"
      ]
    },
    {
      "cell_type": "markdown",
      "metadata": {
        "id": "Hk6gp7IcrLPl",
        "colab_type": "text"
      },
      "source": [
        "**Overview**\n",
        "*   The model consists of 7 layers\n",
        "*   Augmentations and learning rate scheduler usage\n",
        "---\n",
        "Kaggle submission private score: 0.97550\n"
      ]
    },
    {
      "cell_type": "code",
      "metadata": {
        "id": "QPHe2_R8megi",
        "colab_type": "code",
        "outputId": "f861bbcb-3ab2-4f39-b080-0dbac8e9d20a",
        "colab": {
          "base_uri": "https://localhost:8080/",
          "height": 34
        }
      },
      "source": [
        "import numpy as np\n",
        "import pandas as pd\n",
        "import torch\n",
        "import PIL\n",
        "import pickle\n",
        "import numpy as np\n",
        "from skimage import io\n",
        "import random\n",
        "from sklearn.metrics import f1_score\n",
        "\n",
        "from tqdm import tqdm, tqdm_notebook\n",
        "from PIL import Image\n",
        "from pathlib import Path\n",
        "\n",
        "from torchvision import datasets, models, transforms\n",
        "import torch.optim as optim\n",
        "from torch.optim import lr_scheduler\n",
        "from multiprocessing.pool import ThreadPool\n",
        "from sklearn.preprocessing import LabelEncoder\n",
        "from torch.utils.data import Dataset, DataLoader\n",
        "import torch.nn as nn\n",
        "\n",
        "from matplotlib import colors, pyplot as plt\n",
        "%matplotlib inline\n",
        "\n",
        "import warnings\n",
        "warnings.filterwarnings(action='ignore', category=DeprecationWarning)\n",
        "\n",
        "train_on_gpu = torch.cuda.is_available()\n",
        "\n",
        "if not train_on_gpu:\n",
        "    print('CUDA is not available.  Training on CPU ...')\n",
        "else:\n",
        "    print('CUDA is available!  Training on GPU ...')"
      ],
      "execution_count": 0,
      "outputs": [
        {
          "output_type": "stream",
          "text": [
            "CUDA is available!  Training on GPU ...\n"
          ],
          "name": "stdout"
        }
      ]
    },
    {
      "cell_type": "code",
      "metadata": {
        "id": "4BNpWawpmrH_",
        "colab_type": "code",
        "colab": {}
      },
      "source": [
        "SEED = 42\n",
        "\n",
        "random.seed(SEED)\n",
        "np.random.seed(SEED)\n",
        "torch.manual_seed(SEED)\n",
        "torch.cuda.manual_seed(SEED)\n",
        "torch.backends.cudnn.deterministic = True\n",
        "\n",
        "DATA_MODES = ['train', 'val', 'test']\n",
        "RESCALE_SIZE = 224\n",
        "DEVICE = torch.device(\"cuda\")"
      ],
      "execution_count": 0,
      "outputs": []
    },
    {
      "cell_type": "markdown",
      "metadata": {
        "id": "H8245f9umP4n",
        "colab_type": "text"
      },
      "source": [
        "####Load data"
      ]
    },
    {
      "cell_type": "code",
      "metadata": {
        "id": "1S3Y7hKwmU8r",
        "colab_type": "code",
        "colab": {}
      },
      "source": [
        "#from google.colab import drive\n",
        "#drive.mount('/content/drive')"
      ],
      "execution_count": 0,
      "outputs": []
    },
    {
      "cell_type": "code",
      "metadata": {
        "id": "jmJzGKvFmW5K",
        "colab_type": "code",
        "colab": {}
      },
      "source": [
        "#!unzip -q /content/drive/My\\ Drive/simpsons/data/dataset.zip -d train\n",
        "#!unzip -q /content/drive/My\\ Drive/simpsons/data/testset.zip -d test"
      ],
      "execution_count": 0,
      "outputs": []
    },
    {
      "cell_type": "markdown",
      "metadata": {
        "id": "RL_J27OJERg4",
        "colab_type": "text"
      },
      "source": [
        "#### Dataset construction"
      ]
    },
    {
      "cell_type": "code",
      "metadata": {
        "trusted": true,
        "id": "ORPkKhzJERg7",
        "colab_type": "code",
        "colab": {}
      },
      "source": [
        "import albumentations as A\n",
        "from albumentations.pytorch import ToTensor\n",
        "\n",
        "augmentations_chosen = A.Compose([\n",
        "                                  A.HorizontalFlip(0.7), \n",
        "                                  A.RandomContrast(0.7), \n",
        "                                  A.RandomBrightness(0.7),\n",
        "                                  A.RandomBrightnessContrast(0.7), \n",
        "                                  ], p=1)"
      ],
      "execution_count": 0,
      "outputs": []
    },
    {
      "cell_type": "code",
      "metadata": {
        "trusted": true,
        "id": "8A5tLfr8ERg_",
        "colab_type": "code",
        "colab": {}
      },
      "source": [
        "class SimpsonsDataset(Dataset):\n",
        "  def __init__(self, files, mode, augmentations = augmentations_chosen):\n",
        "    super().__init__()\n",
        "    self.files = files\n",
        "    self.mode = mode\n",
        "    self.augmentations = augmentations\n",
        "\n",
        "    if self.mode not in DATA_MODES:\n",
        "      print(f'wrong mode: {self.mode}')\n",
        "      raise NameError\n",
        "\n",
        "    self.len_ = len(self.files)\n",
        "    self.label_encoder = LabelEncoder()\n",
        "\n",
        "    if self.mode != 'test':\n",
        "      self.labels = [path.parent.name for path in self.files]\n",
        "      self.label_encoder.fit(self.labels)\n",
        "\n",
        "      with open('label_encoder.pkl', 'wb') as le_dump:\n",
        "        pickle.dump(self.label_encoder, le_dump)\n",
        "\n",
        "  def __len__(self):\n",
        "    return self.len_\n",
        "\n",
        "  def load_sample(self, file):\n",
        "    image = Image.open(file)\n",
        "    image.load()\n",
        "    return image\n",
        "\n",
        "  def __getitem__(self, index):\n",
        "\n",
        "    transform = transforms.Compose([\n",
        "      transforms.ToTensor(),\n",
        "      transforms.Normalize([0.485, 0.456, 0.406], [0.229, 0.224, 0.225])                                \n",
        "    ])\n",
        "\n",
        "    x = self.load_sample(self.files[index])\n",
        "    x = self._prepare_sample(x)\n",
        "    x = np.array(x / 255, dtype='float32')\n",
        "    x = transform(x)\n",
        "  \n",
        "    if self.mode == 'test':\n",
        "      return x\n",
        "    else:\n",
        "\n",
        "      #applying augmentations \n",
        "      \n",
        "      augmented = self.augmentations(image = x.numpy())\n",
        "      label = self.labels[index]\n",
        "      label_id = self.label_encoder.transform([label])\n",
        "      y = label_id.item()\n",
        "      return x, y\n",
        "\n",
        "  def _prepare_sample(self, image):\n",
        "    image = image.resize((RESCALE_SIZE, RESCALE_SIZE))\n",
        "    return np.array(image)"
      ],
      "execution_count": 0,
      "outputs": []
    },
    {
      "cell_type": "markdown",
      "metadata": {
        "id": "CNWhhUA7qRUt",
        "colab_type": "text"
      },
      "source": [
        "**Val/train split**"
      ]
    },
    {
      "cell_type": "code",
      "metadata": {
        "trusted": true,
        "id": "Lao7LfXRERhB",
        "colab_type": "code",
        "colab": {}
      },
      "source": [
        "TRAIN_DIR = Path('/content/train/train')\n",
        "TEST_DIR = Path('/content/test/testset/testset')\n",
        "\n",
        "train_val_files = sorted(list(TRAIN_DIR.rglob('*.jpg')))\n",
        "test_files = sorted(list(TEST_DIR.rglob('*.jpg')))"
      ],
      "execution_count": 0,
      "outputs": []
    },
    {
      "cell_type": "code",
      "metadata": {
        "trusted": true,
        "id": "oTFX7-kvERhE",
        "colab_type": "code",
        "colab": {}
      },
      "source": [
        "from sklearn.model_selection import train_test_split\n",
        "\n",
        "train_val_labels = [path.parent.name for path in train_val_files]\n",
        "train_files, val_files = train_test_split(train_val_files, test_size=0.3, \\\n",
        "                                          stratify=train_val_labels)"
      ],
      "execution_count": 0,
      "outputs": []
    },
    {
      "cell_type": "code",
      "metadata": {
        "trusted": true,
        "id": "ErZKWGOMERhG",
        "colab_type": "code",
        "colab": {}
      },
      "source": [
        "val_dataset = SimpsonsDataset(val_files, mode='val')\n",
        "train_dataset = SimpsonsDataset(train_files, mode='train')"
      ],
      "execution_count": 0,
      "outputs": []
    },
    {
      "cell_type": "markdown",
      "metadata": {
        "id": "xtoeDkCYERhI",
        "colab_type": "text"
      },
      "source": [
        "####Exploring the data"
      ]
    },
    {
      "cell_type": "code",
      "metadata": {
        "trusted": true,
        "id": "9ZkA_H0SERhJ",
        "colab_type": "code",
        "outputId": "2414dc76-40a3-405b-9574-bd5f3d0a2415",
        "colab": {
          "base_uri": "https://localhost:8080/"
        }
      },
      "source": [
        "def imshow(img, title=None, plt_ax=plt, default=False):\n",
        "  img = img.numpy().transpose((1, 2, 0))\n",
        "  mean = np.array([0.485, 0.456, 0.406])\n",
        "  std = np.array([0.229, 0.224, 0.225])\n",
        "  img = std * img + mean\n",
        "  img = np.clip(img, 0, 1)\n",
        "  plt_ax.imshow(img)\n",
        "  if title is not None:\n",
        "    plt_ax.set_title(title)\n",
        "  plt_ax.grid(False)\n",
        "\n",
        "\n",
        "fig, ax = plt.subplots(nrows=3, ncols=3, figsize=(10,10), sharex=True, sharey=True)\n",
        "\n",
        "for fig_x in ax.flatten():\n",
        "    random_characters = int(np.random.uniform(0,1000))\n",
        "    im_val, label = val_dataset[random_characters]\n",
        "    img_label = \" \".join(map(lambda x: x.capitalize(),\\\n",
        "                val_dataset.label_encoder.inverse_transform([label])[0].split('_')))\n",
        "    imshow(im_val.data.cpu(), \\\n",
        "          title=img_label,plt_ax=fig_x)"
      ],
      "execution_count": 0,
      "outputs": [
        {
          "output_type": "execute_result",
          "data": {
            "text/plain": [
              "'\\ndef imshow(img, title=None, plt_ax=plt, default=False):\\n  img = img.numpy().transpose((1, 2, 0))\\n  mean = np.array([0.485, 0.456, 0.406])\\n  std = np.array([0.229, 0.224, 0.225])\\n  img = std * img + mean\\n  img = np.clip(img, 0, 1)\\n  plt_ax.imshow(img)\\n  if title is not None:\\n    plt_ax.set_title(title)\\n  plt_ax.grid(False)\\n\\n\\nfig, ax = plt.subplots(nrows=3, ncols=3, figsize=(10,10), sharex=True, sharey=True)\\n\\nfor fig_x in ax.flatten():\\n    random_characters = int(np.random.uniform(0,1000))\\n    im_val, label = val_dataset[random_characters]\\n    img_label = \" \".join(map(lambda x: x.capitalize(),                val_dataset.label_encoder.inverse_transform([label])[0].split(\\'_\\')))\\n    imshow(im_val.data.cpu(),           title=img_label,plt_ax=fig_x)\\n'"
            ]
          },
          "metadata": {
            "tags": []
          },
          "execution_count": 10
        }
      ]
    },
    {
      "cell_type": "markdown",
      "metadata": {
        "id": "QhN5tWXoERhP",
        "colab_type": "text"
      },
      "source": [
        "####Building the model\n",
        "\n",
        "\n"
      ]
    },
    {
      "cell_type": "code",
      "metadata": {
        "id": "pqQB0cumC-Th",
        "colab_type": "code",
        "colab": {}
      },
      "source": [
        "class ConvModel(nn.Module):\n",
        "  \n",
        "    def __init__(self, n_classes):\n",
        "        super().__init__()\n",
        "        self.conv1 = nn.Sequential( # 224 222 111\n",
        "            nn.Conv2d(in_channels=3, out_channels=8, kernel_size=3),\n",
        "            nn.MaxPool2d(kernel_size=2, stride=2),\n",
        "            nn.ReLU()\n",
        "        )\n",
        "        self.conv2 = nn.Sequential( # 111 109 54\n",
        "            nn.Conv2d(in_channels=8, out_channels=32, kernel_size=3), \n",
        "            nn.BatchNorm2d(32),\n",
        "            nn.MaxPool2d(kernel_size=2, stride=2), \n",
        "            nn.ReLU()\n",
        "        )\n",
        "        self.conv3 = nn.Sequential( # 54 52 26\n",
        "            nn.Conv2d(in_channels=32, out_channels=64, kernel_size=3),\n",
        "            nn.BatchNorm2d(64),\n",
        "            nn.MaxPool2d(kernel_size=2, stride=2),\n",
        "            nn.ReLU()\n",
        "        )\n",
        "        self.conv4 = nn.Sequential( # 26 24 12\n",
        "            nn.Conv2d(in_channels=64, out_channels=96, kernel_size=3),\n",
        "            nn.BatchNorm2d(96),\n",
        "            nn.MaxPool2d(kernel_size=2, stride=2),\n",
        "            nn.ReLU()\n",
        "        )\n",
        "        self.conv5 = nn.Sequential( # 12 10 5\n",
        "            nn.Conv2d(in_channels=96, out_channels=164, kernel_size=3),\n",
        "            nn.BatchNorm2d(164),\n",
        "            nn.MaxPool2d(kernel_size=2, stride=2),\n",
        "            nn.ReLU()\n",
        "        )\n",
        "        self.fc1 = nn.Sequential( # 4100\n",
        "            nn.Linear(5 * 5 * 164, 1024),\n",
        "            nn.BatchNorm1d(1024),\n",
        "            nn.ReLU(),\n",
        "        )\n",
        "        self.fc2 = nn.Sequential( # 1024\n",
        "            nn.Linear(1024, 1024),\n",
        "            nn.BatchNorm1d(1024),\n",
        "            nn.ReLU()\n",
        "        )        \n",
        "        self.out = nn.Linear(1024, n_classes)\n",
        "\n",
        "    def forward(self, x):\n",
        "        x = self.conv1(x)\n",
        "        x = self.conv2(x)\n",
        "        x = self.conv3(x)\n",
        "        x = self.conv4(x)\n",
        "        x = self.conv5(x)\n",
        "        x = x.view(-1, 5 * 5 * 164)\n",
        "        x = self.fc1(x)\n",
        "        x = self.fc2(x)\n",
        "\n",
        "        logits = self.out(x)\n",
        "        return logits"
      ],
      "execution_count": 0,
      "outputs": []
    },
    {
      "cell_type": "code",
      "metadata": {
        "trusted": true,
        "id": "nBn7OzqbERhT",
        "colab_type": "code",
        "colab": {}
      },
      "source": [
        "def fit_epoch(model, train_loader, criterion, optimizer):\n",
        "    running_loss = 0.0\n",
        "    running_corrects = 0\n",
        "    processed_data = 0\n",
        "  \n",
        "    for inputs, labels in train_loader:\n",
        "        inputs = inputs.to(DEVICE)\n",
        "        labels = labels.to(DEVICE)\n",
        "        optimizer.zero_grad()\n",
        "\n",
        "        outputs = model(inputs)\n",
        "        loss = criterion(outputs, labels)\n",
        "        loss.backward()\n",
        "        optimizer.step()\n",
        "        preds = torch.argmax(outputs, 1)\n",
        "        running_loss += loss.item() * inputs.size(0)\n",
        "        running_corrects += torch.sum(preds == labels.data)\n",
        "        processed_data += inputs.size(0)\n",
        "              \n",
        "    train_loss = running_loss / processed_data\n",
        "    train_acc = running_corrects.cpu().numpy() / processed_data\n",
        "    return train_loss, train_acc\n",
        "  \n",
        "def eval_epoch(model, val_loader, criterion):\n",
        "    model.eval()\n",
        "    running_loss = 0.0\n",
        "    running_corrects = 0\n",
        "    processed_size = 0\n",
        "\n",
        "    for inputs, labels in val_loader:\n",
        "        inputs = inputs.to(DEVICE)\n",
        "        labels = labels.to(DEVICE)\n",
        "\n",
        "        with torch.set_grad_enabled(False):\n",
        "            outputs = model(inputs)\n",
        "            loss = criterion(outputs, labels)\n",
        "            preds = torch.argmax(outputs, 1)\n",
        "\n",
        "        running_loss += loss.item() * inputs.size(0)\n",
        "        running_corrects += torch.sum(preds == labels.data)\n",
        "        processed_size += inputs.size(0)\n",
        "    val_loss = running_loss / processed_size\n",
        "    val_acc = running_corrects.double() / processed_size\n",
        "    return val_loss, val_acc\n",
        "  \n",
        "def train(train_files, val_files, model, epochs, batch_size, scheduler):\n",
        "    train_loader = DataLoader(train_dataset, batch_size=batch_size, shuffle=True)\n",
        "    val_loader = DataLoader(val_dataset, batch_size=batch_size, shuffle=False)\n",
        "\n",
        "    history = []\n",
        "    log_template = \"\\nEpoch {ep:03d} train_loss: {t_loss:0.4f} \\\n",
        "    val_loss {v_loss:0.4f} train_acc {t_acc:0.4f} val_acc {v_acc:0.4f}\"\n",
        "\n",
        "    with tqdm(desc=\"epoch\", total=epochs) as pbar_outer:\n",
        "      \n",
        "        for epoch in range(epochs):\n",
        "            \n",
        "            train_loss, train_acc = fit_epoch(model, train_loader, criterion, optimizer_ft)\n",
        "\n",
        "            scheduler.step() # changing learning rate\n",
        "\n",
        "            print(\"loss\", train_loss)\n",
        "            \n",
        "            val_loss, val_acc = eval_epoch(model, val_loader, criterion)\n",
        "            history.append((train_loss, train_acc, val_loss, val_acc))\n",
        "            \n",
        "            pbar_outer.update(1)\n",
        "            tqdm.write(log_template.format(ep=epoch+1, t_loss=train_loss,\\\n",
        "                                           v_loss=val_loss, t_acc=train_acc, v_acc=val_acc))\n",
        "            \n",
        "    return history"
      ],
      "execution_count": 0,
      "outputs": []
    },
    {
      "cell_type": "code",
      "metadata": {
        "trusted": true,
        "id": "zb4fhEV_ERhV",
        "colab_type": "code",
        "colab": {}
      },
      "source": [
        "def predict(model, test_loader):\n",
        "    with torch.no_grad():\n",
        "        logits = []\n",
        "    \n",
        "        for inputs in test_loader:\n",
        "            inputs = inputs.to(DEVICE)\n",
        "            model.eval()\n",
        "            outputs = model(inputs).cpu()\n",
        "            logits.append(outputs)\n",
        "            \n",
        "    probs = nn.functional.softmax(torch.cat(logits), dim=-1).numpy()\n",
        "    return probs"
      ],
      "execution_count": 0,
      "outputs": []
    },
    {
      "cell_type": "code",
      "metadata": {
        "trusted": true,
        "id": "xOAgIA9FERhY",
        "colab_type": "code",
        "colab": {}
      },
      "source": [
        "n_classes = len(np.unique(train_val_labels))\n",
        "model = ConvModel(n_classes).to(DEVICE)\n",
        "\n",
        "optimizer_ft = torch.optim.Adam(model.parameters(), lr = 0.001)\n",
        "exp_lr_scheduler = lr_scheduler.StepLR(optimizer_ft, step_size=7, gamma=0.1)\n",
        "criterion = nn.CrossEntropyLoss()"
      ],
      "execution_count": 0,
      "outputs": []
    },
    {
      "cell_type": "markdown",
      "metadata": {
        "id": "HIQGisGqERha",
        "colab_type": "text"
      },
      "source": [
        "#### Train"
      ]
    },
    {
      "cell_type": "code",
      "metadata": {
        "trusted": true,
        "id": "V-O4z2_hERhi",
        "colab_type": "code",
        "outputId": "c4d680a9-6f83-4221-9d10-fe90eb18b9db",
        "colab": {
          "base_uri": "https://localhost:8080/",
          "height": 553
        }
      },
      "source": [
        "history = train(train_dataset, val_dataset, model=model, epochs=10, batch_size=32, scheduler=exp_lr_scheduler)"
      ],
      "execution_count": 0,
      "outputs": [
        {
          "output_type": "stream",
          "text": [
            "\repoch:   0%|          | 0/10 [00:00<?, ?it/s]"
          ],
          "name": "stderr"
        },
        {
          "output_type": "stream",
          "text": [
            "loss 1.6109317727587795\n"
          ],
          "name": "stdout"
        },
        {
          "output_type": "stream",
          "text": [
            "epoch:  10%|█         | 1/10 [01:55<17:21, 115.76s/it]"
          ],
          "name": "stderr"
        },
        {
          "output_type": "stream",
          "text": [
            "\n",
            "Epoch 001 train_loss: 1.6109     val_loss 1.0997 train_acc 0.5584 val_acc 0.6861\n",
            "loss 0.9906811145379797\n"
          ],
          "name": "stdout"
        },
        {
          "output_type": "stream",
          "text": [
            "epoch:  20%|██        | 2/10 [03:52<15:27, 115.91s/it]"
          ],
          "name": "stderr"
        },
        {
          "output_type": "stream",
          "text": [
            "\n",
            "Epoch 002 train_loss: 0.9907     val_loss 0.8632 train_acc 0.7165 val_acc 0.7540\n",
            "loss 0.5911282525874971\n"
          ],
          "name": "stdout"
        },
        {
          "output_type": "stream",
          "text": [
            "epoch:  30%|███       | 3/10 [05:48<13:31, 115.96s/it]"
          ],
          "name": "stderr"
        },
        {
          "output_type": "stream",
          "text": [
            "\n",
            "Epoch 003 train_loss: 0.5911     val_loss 0.7424 train_acc 0.8323 val_acc 0.7992\n",
            "loss 0.3687459219633284\n"
          ],
          "name": "stdout"
        },
        {
          "output_type": "stream",
          "text": [
            "epoch:  40%|████      | 4/10 [07:43<11:35, 115.88s/it]"
          ],
          "name": "stderr"
        },
        {
          "output_type": "stream",
          "text": [
            "\n",
            "Epoch 004 train_loss: 0.3687     val_loss 0.6261 train_acc 0.8907 val_acc 0.8382\n",
            "loss 0.2207185193588162\n"
          ],
          "name": "stdout"
        },
        {
          "output_type": "stream",
          "text": [
            "epoch:  50%|█████     | 5/10 [09:41<09:42, 116.46s/it]"
          ],
          "name": "stderr"
        },
        {
          "output_type": "stream",
          "text": [
            "\n",
            "Epoch 005 train_loss: 0.2207     val_loss 0.9041 train_acc 0.9331 val_acc 0.8132\n",
            "loss 0.17909835800167515\n"
          ],
          "name": "stdout"
        },
        {
          "output_type": "stream",
          "text": [
            "epoch:  60%|██████    | 6/10 [11:39<07:47, 116.82s/it]"
          ],
          "name": "stderr"
        },
        {
          "output_type": "stream",
          "text": [
            "\n",
            "Epoch 006 train_loss: 0.1791     val_loss 0.8249 train_acc 0.9440 val_acc 0.8245\n",
            "loss 0.11525238679791484\n"
          ],
          "name": "stdout"
        },
        {
          "output_type": "stream",
          "text": [
            "epoch:  70%|███████   | 7/10 [13:35<05:50, 116.70s/it]"
          ],
          "name": "stderr"
        },
        {
          "output_type": "stream",
          "text": [
            "\n",
            "Epoch 007 train_loss: 0.1153     val_loss 0.8360 train_acc 0.9674 val_acc 0.8333\n",
            "loss 0.0250318330036799\n"
          ],
          "name": "stdout"
        },
        {
          "output_type": "stream",
          "text": [
            "epoch:  80%|████████  | 8/10 [15:31<03:53, 116.52s/it]"
          ],
          "name": "stderr"
        },
        {
          "output_type": "stream",
          "text": [
            "\n",
            "Epoch 008 train_loss: 0.0250     val_loss 0.6333 train_acc 0.9932 val_acc 0.8748\n",
            "loss 0.0031257925004153195\n"
          ],
          "name": "stdout"
        },
        {
          "output_type": "stream",
          "text": [
            "epoch:  90%|█████████ | 9/10 [17:28<01:56, 116.48s/it]"
          ],
          "name": "stderr"
        },
        {
          "output_type": "stream",
          "text": [
            "\n",
            "Epoch 009 train_loss: 0.0031     val_loss 0.6452 train_acc 0.9997 val_acc 0.8756\n",
            "loss 0.0017331542719096695\n"
          ],
          "name": "stdout"
        },
        {
          "output_type": "stream",
          "text": [
            "epoch: 100%|██████████| 10/10 [19:24<00:00, 116.55s/it]"
          ],
          "name": "stderr"
        },
        {
          "output_type": "stream",
          "text": [
            "\n",
            "Epoch 010 train_loss: 0.0017     val_loss 0.6626 train_acc 0.9998 val_acc 0.8769\n"
          ],
          "name": "stdout"
        },
        {
          "output_type": "stream",
          "text": [
            "\n"
          ],
          "name": "stderr"
        }
      ]
    },
    {
      "cell_type": "code",
      "metadata": {
        "trusted": true,
        "id": "ZwGOt-94ERhk",
        "colab_type": "code",
        "colab": {}
      },
      "source": [
        "loss, acc, val_loss, val_acc = zip(*history)"
      ],
      "execution_count": 0,
      "outputs": []
    },
    {
      "cell_type": "code",
      "metadata": {
        "trusted": true,
        "id": "UtWjn7CZERho",
        "colab_type": "code",
        "outputId": "068a27a2-7c1e-4f4a-e68a-b1b04d138e06",
        "colab": {
          "base_uri": "https://localhost:8080/",
          "height": 225
        }
      },
      "source": [
        "plt.figure(figsize=(16, 3))\n",
        "plt.plot(loss, label=\"train_loss\")\n",
        "plt.plot(val_loss, label=\"val_loss\")\n",
        "plt.legend(loc='best')\n",
        "plt.xlabel(\"epochs\")\n",
        "plt.ylabel(\"loss\")\n",
        "plt.show()"
      ],
      "execution_count": 0,
      "outputs": [
        {
          "output_type": "display_data",
          "data": {
            "image/png": "[encoded data removed]",
            "text/plain": [
              "<Figure size 1152x216 with 1 Axes>"
            ]
          },
          "metadata": {
            "tags": []
          }
        }
      ]
    },
    {
      "cell_type": "code",
      "metadata": {
        "id": "cASaCz5wM0kM",
        "colab_type": "code",
        "colab": {}
      },
      "source": [
        "def predict_one_sample(model, inputs, device=DEVICE):\n",
        "    with torch.no_grad():\n",
        "        inputs = inputs.to(device)\n",
        "        model.eval()\n",
        "        logit = model(inputs).cpu()\n",
        "        probs = torch.nn.functional.softmax(logit, dim=-1).numpy()\n",
        "    return probs\n",
        "\n",
        "def Get_F1_Score(model):\n",
        "    label_encoder = pickle.load(open(\"label_encoder.pkl\", 'rb'))\n",
        "    DEVICE = torch.device(\"cuda\")\n",
        "    random_characters = int(np.random.uniform(0,1000))\n",
        "    ex_img, true_label = val_dataset[random_characters]\n",
        "    probs_im = predict_one_sample(model, ex_img.unsqueeze(0))\n",
        "    idxs = list(map(int, np.random.uniform(0,1000, 20)))\n",
        "    imgs = [val_dataset[id][0].unsqueeze(0) for id in idxs]\n",
        "\n",
        "    probs_ims = predict(model, imgs)\n",
        "    y_pred = np.argmax(probs_ims,-1)\n",
        "\n",
        "    actual_labels = [val_dataset[id][1] for id in idxs]\n",
        "\n",
        "    preds_class = [label_encoder.classes_[i] for i in y_pred]\n",
        "    preds_class_numbers = [val_dataset.label_encoder.transform([name])[0] for name in preds_class] \n",
        "\n",
        "    return np.mean(f1_score(actual_labels, preds_class_numbers, average = None))"
      ],
      "execution_count": 0,
      "outputs": []
    },
    {
      "cell_type": "code",
      "metadata": {
        "id": "IcviQpUv4zgM",
        "colab_type": "code",
        "outputId": "fcd01a6d-5386-43b1-9b3c-8341c3d57758",
        "colab": {
          "base_uri": "https://localhost:8080/",
          "height": 34
        }
      },
      "source": [
        "Get_F1_Score(model)"
      ],
      "execution_count": 0,
      "outputs": [
        {
          "output_type": "stream",
          "text": [
            "0.958974358974359\n"
          ],
          "name": "stdout"
        }
      ]
    },
    {
      "cell_type": "markdown",
      "metadata": {
        "id": "GrDViENGERhr",
        "colab_type": "text"
      },
      "source": [
        "#### Submission\n",
        "\n"
      ]
    },
    {
      "cell_type": "code",
      "metadata": {
        "trusted": true,
        "id": "aM3m1W0MERhs",
        "colab_type": "code",
        "colab": {}
      },
      "source": [
        "label_encoder = pickle.load(open(\"label_encoder.pkl\", 'rb'))\n",
        "\n",
        "test_dataset = SimpsonsDataset(test_files, mode=\"test\")\n",
        "test_loader = DataLoader(test_dataset, shuffle=False, batch_size=64)\n",
        "probs = predict(model, test_loader)\n",
        "\n",
        "preds = label_encoder.inverse_transform(np.argmax(probs, axis=1))\n",
        "test_filenames = [path.name for path in test_dataset.files]"
      ],
      "execution_count": 0,
      "outputs": []
    },
    {
      "cell_type": "code",
      "metadata": {
        "trusted": true,
        "id": "08DeDvSZERhu",
        "colab_type": "code",
        "outputId": "d1d3d1f7-a7a6-41a1-bf99-15a1db0c8eaf",
        "colab": {
          "base_uri": "https://localhost:8080/",
          "height": 198
        }
      },
      "source": [
        "submit = pd.DataFrame({'Id': test_filenames, 'Expected': preds})\n",
        "submit.head()"
      ],
      "execution_count": 0,
      "outputs": [
        {
          "output_type": "execute_result",
          "data": {
            "text/html": [
              "<div>\n",
              "<style scoped>\n",
              "    .dataframe tbody tr th:only-of-type {\n",
              "        vertical-align: middle;\n",
              "    }\n",
              "\n",
              "    .dataframe tbody tr th {\n",
              "        vertical-align: top;\n",
              "    }\n",
              "\n",
              "    .dataframe thead th {\n",
              "        text-align: right;\n",
              "    }\n",
              "</style>\n",
              "<table border=\"1\" class=\"dataframe\">\n",
              "  <thead>\n",
              "    <tr style=\"text-align: right;\">\n",
              "      <th></th>\n",
              "      <th>Id</th>\n",
              "      <th>Expected</th>\n",
              "    </tr>\n",
              "  </thead>\n",
              "  <tbody>\n",
              "    <tr>\n",
              "      <th>0</th>\n",
              "      <td>img0.jpg</td>\n",
              "      <td>nelson_muntz</td>\n",
              "    </tr>\n",
              "    <tr>\n",
              "      <th>1</th>\n",
              "      <td>img1.jpg</td>\n",
              "      <td>bart_simpson</td>\n",
              "    </tr>\n",
              "    <tr>\n",
              "      <th>2</th>\n",
              "      <td>img10.jpg</td>\n",
              "      <td>ned_flanders</td>\n",
              "    </tr>\n",
              "    <tr>\n",
              "      <th>3</th>\n",
              "      <td>img100.jpg</td>\n",
              "      <td>chief_wiggum</td>\n",
              "    </tr>\n",
              "    <tr>\n",
              "      <th>4</th>\n",
              "      <td>img101.jpg</td>\n",
              "      <td>apu_nahasapeemapetilon</td>\n",
              "    </tr>\n",
              "  </tbody>\n",
              "</table>\n",
              "</div>"
            ],
            "text/plain": [
              "           Id                Expected\n",
              "0    img0.jpg            nelson_muntz\n",
              "1    img1.jpg            bart_simpson\n",
              "2   img10.jpg            ned_flanders\n",
              "3  img100.jpg            chief_wiggum\n",
              "4  img101.jpg  apu_nahasapeemapetilon"
            ]
          },
          "metadata": {
            "tags": []
          },
          "execution_count": 21
        }
      ]
    },
    {
      "cell_type": "code",
      "metadata": {
        "trusted": true,
        "id": "vaAQmAmiERhy",
        "colab_type": "code",
        "colab": {}
      },
      "source": [
        "submit.to_csv('submission.csv', index=False)"
      ],
      "execution_count": 0,
      "outputs": []
    }
  ]
}